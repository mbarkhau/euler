{
 "metadata": {
  "name": "",
  "signature": "sha256:49290bcbb644ecfb0853015206cf4c947ef353b77da46a9a8599c4f17bd245f2"
 },
 "nbformat": 3,
 "nbformat_minor": 0,
 "worksheets": [
  {
   "cells": [
    {
     "cell_type": "markdown",
     "metadata": {},
     "source": [
      "Let `f(N)` be the number of points with integer coordinates that are \n",
      "on a circle passing through `(0, 0)`, `(N, 0)`, `(0, N)`, and `(N, N)`.\n",
      "\n",
      "It can be shown that `f(10000)\u2009=\u200936`.\n",
      "\n",
      "What is the sum of all positive integers `N\u2009\u2264\u200910\u00b9\u00b9` such that `f(N)\u2009=\u2009420`\u2009?"
     ]
    },
    {
     "cell_type": "code",
     "collapsed": false,
     "input": [
      "from __future__ import division\n",
      "from __future__ import print_function\n",
      "\n",
      "import sys\n",
      "if sys.version_info.major < 3:\n",
      "    range = xrange\n",
      "    \n",
      "%pylab inline\n",
      "import matplotlib.pyplot as plt"
     ],
     "language": "python",
     "metadata": {},
     "outputs": [
      {
       "output_type": "stream",
       "stream": "stdout",
       "text": [
        "Populating the interactive namespace from numpy and matplotlib\n"
       ]
      }
     ],
     "prompt_number": 67
    },
    {
     "cell_type": "code",
     "collapsed": false,
     "input": [
      "def draw_coords(n=10000):\n",
      "    fig = plt.figure()\n",
      "    fig.set_figwidth(6)\n",
      "    fig.set_figheight(6)\n",
      "    # fig.add_axes((-0.1, -0.1, 1.2, 1.2))\n",
      "    \n",
      "    axes = fig.add_subplot(111)\n",
      "    axes.plot([0, 0, n, n], [0, n, n, 0])\n",
      "    #axes = fig.add_subplot(111)\n",
      "    #axes.plot([0, 0, n], [0, n, 0])\n",
      "    return fig\n",
      "    \n",
      "draw_coords()\n",
      "plt.show()"
     ],
     "language": "python",
     "metadata": {},
     "outputs": [
      {
       "metadata": {},
       "output_type": "display_data",
       "png": "[encoded data removed]",
       "text": [
        "<matplotlib.figure.Figure at 0x7f7c86154390>"
       ]
      }
     ],
     "prompt_number": 68
    },
    {
     "cell_type": "markdown",
     "metadata": {},
     "source": [
      "Constant to calculate radius based on N\n",
      "\n",
      "let d be the diameter of the circle, then d forms the\n",
      "hypthenuse of the triangle (0, 0), (N, 0), (0, N).\n",
      "Then it can bee seen \n",
      "\n",
      "    d\u00b2 = n\u00b2 + n\u00b2\n",
      "    d = sqrt(n\u00b2 + n\u00b2)\n",
      "    d = sqrt(2n\u00b2)\n",
      "    d = n * sqrt(2)\n",
      "\n",
      "The radius r is d / 2 so for any given N we can\n",
      "use a constant c to calculate its radius with\n",
      "only one multiplication.\n",
      "\n",
      "    r = d / 2\n",
      "    r = n * sqrt(2) / 2\n",
      "    \n",
      "    c = sqrt(2) / 2\n",
      "    r = n * c"
     ]
    },
    {
     "cell_type": "code",
     "collapsed": false,
     "input": [
      "c = (2 ** 0.5) / 2"
     ],
     "language": "python",
     "metadata": {},
     "outputs": [],
     "prompt_number": 70
    },
    {
     "cell_type": "code",
     "collapsed": false,
     "input": [
      "def draw_circle(n=10000):\n",
      "    r = n * c\n",
      "    m = n / 2\n",
      "    \n",
      "    fig = draw_coords(n)\n",
      "    \n",
      "    #axes = fig.add_subplot(111)\n",
      "    #axes.plot([m, 2080, 2080, m], [m, m, 11440, m])\n",
      "    \n",
      "    axes = fig.add_subplot(111)\n",
      "    axes.add_artist(plt.Circle((m, m), r, clip_on=False, fill=False))\n",
      "\n",
      "draw_circle()\n",
      "plt.show()"
     ],
     "language": "python",
     "metadata": {},
     "outputs": [
      {
       "metadata": {},
       "output_type": "display_data",
       "png": "[encoded data removed]",
       "text": [
        "<matplotlib.figure.Figure at 0x7f7c86186b90>"
       ]
      }
     ],
     "prompt_number": 71
    },
    {
     "cell_type": "markdown",
     "metadata": {},
     "source": [
      "It is better to stay in integer space,\n",
      "so we would rather compare against r\u00b2\n",
      "\n",
      "    r\u00b2 = (d / 2)\u00b2\n",
      "    r\u00b2 = (n * sqrt(2) * \u00bd)\u00b2\n",
      "    r\u00b2 = n\u00b2 * 2 / 4\n",
      "    r\u00b2 = n\u00b2 / 2\n",
      "    \n",
      "However not all values of r are interesting to us:\n",
      "\n",
      "1. Let a, b, r be a right triangle with r the hypothenuse.\n",
      "2. Let a and b be integers.\n",
      "3. Then a\u00b2 and b\u00b2 are also integers.\n",
      "4. Then a\u00b2 + b\u00b2 = r\u00b2 is also an integer.\n",
      "5. Let `r\u00b2 = n\u00b2 / 2`\n",
      "6. Due to 4, n\u00b2 must be even.\n",
      "7. Then n must also be even.\n",
      "\n",
      "It follows that we need only consider even values for n."
     ]
    },
    {
     "cell_type": "code",
     "collapsed": false,
     "input": [
      "def fn(n):\n",
      "    if n % 2 != 0:\n",
      "        return 4\n",
      "\n",
      "    rsq = n * n / 2\n",
      "    \n",
      "    m = int(n / 2)\n",
      "    x = 1\n",
      "    y = n\n",
      "    \n",
      "    int_points = 0\n",
      "    \n",
      "    while x <= m:\n",
      "        a = m - x\n",
      "        b = y - m\n",
      "        asq_plus_bsq = (a * a + b * b)\n",
      "        \n",
      "        if asq_plus_bsq > rsq:\n",
      "            x += 1\n",
      "        elif asq_plus_bsq < rsq:\n",
      "            y += 1\n",
      "        else:\n",
      "            # print(x, y, a, b)\n",
      "            int_points += 1\n",
      "            x += 1\n",
      "            y += 1\n",
      "        \n",
      "    return int_points * 8 + 4"
     ],
     "language": "python",
     "metadata": {},
     "outputs": [],
     "prompt_number": 45
    },
    {
     "cell_type": "code",
     "collapsed": false,
     "input": [
      "fn(9)"
     ],
     "language": "python",
     "metadata": {},
     "outputs": [
      {
       "metadata": {},
       "output_type": "pyout",
       "prompt_number": 43,
       "text": [
        "4"
       ]
      }
     ],
     "prompt_number": 43
    },
    {
     "cell_type": "code",
     "collapsed": false,
     "input": [
      "fn(10000)"
     ],
     "language": "python",
     "metadata": {},
     "outputs": [
      {
       "output_type": "stream",
       "stream": "stdout",
       "text": [
        "1600 11200 3400 6200\n",
        "2080 11440 2920 6440\n",
        "3472 11904 1528 6904\n",
        "4000 12000 1000 7000\n"
       ]
      },
      {
       "metadata": {},
       "output_type": "pyout",
       "prompt_number": 44,
       "text": [
        "36"
       ]
      }
     ],
     "prompt_number": 44
    },
    {
     "cell_type": "code",
     "collapsed": false,
     "input": [
      "%timeit fn(10000)"
     ],
     "language": "python",
     "metadata": {},
     "outputs": [
      {
       "output_type": "stream",
       "stream": "stdout",
       "text": [
        "100 loops, best of 3: 9.12 ms per loop\n"
       ]
      }
     ],
     "prompt_number": 8
    },
    {
     "cell_type": "code",
     "collapsed": false,
     "input": [
      "%load_ext cythonmagic"
     ],
     "language": "python",
     "metadata": {},
     "outputs": [],
     "prompt_number": 9
    },
    {
     "cell_type": "code",
     "collapsed": false,
     "input": [
      "%%cython\n",
      "\n",
      "ctypedef unsigned long long ulong\n",
      "\n",
      "def cyfn(ulong n):\n",
      "    if n % 2 != 0:\n",
      "        return 4\n",
      "    \n",
      "    cdef ulong rsq = n * n / 2\n",
      "    \n",
      "    cdef ulong m = n / 2\n",
      "    \n",
      "    cdef ulong x = 1\n",
      "    cdef ulong y = n\n",
      "    cdef ulong a, b, asq, bsq, asq_plus_bsq\n",
      "    cdef int int_points = 0\n",
      "    a = m - x\n",
      "    b = y - m\n",
      "    asq = a * a\n",
      "    bsq = b * b\n",
      "    while x <= m:\n",
      "        asq_plus_bsq = asq + bsq\n",
      "        if asq_plus_bsq > rsq:\n",
      "            x += 1\n",
      "            a = m - x\n",
      "            asq = a * a\n",
      "        elif asq_plus_bsq < rsq:\n",
      "            y += 1\n",
      "            b = y - m\n",
      "            bsq = b * b\n",
      "        else:\n",
      "            # print(x, y, a, b, rsq)\n",
      "            int_points += 1\n",
      "            x += 1\n",
      "            y += 1\n",
      "            a = m - x\n",
      "            b = y - m\n",
      "            asq = a * a\n",
      "            bsq = b * b\n",
      "            \n",
      "    return int_points * 8 + 4"
     ],
     "language": "python",
     "metadata": {},
     "outputs": [],
     "prompt_number": 61
    },
    {
     "cell_type": "code",
     "collapsed": false,
     "input": [
      "cyfn(10000)"
     ],
     "language": "python",
     "metadata": {},
     "outputs": [
      {
       "output_type": "stream",
       "stream": "stdout",
       "text": [
        "(1600L, 11200L, 3400L, 6200L, 50000000L)\n",
        "(2080L, 11440L, 2920L, 6440L, 50000000L)\n",
        "(3472L, 11904L, 1528L, 6904L, 50000000L)\n",
        "(4000L, 12000L, 1000L, 7000L, 50000000L)\n"
       ]
      },
      {
       "metadata": {},
       "output_type": "pyout",
       "prompt_number": 60,
       "text": [
        "36"
       ]
      }
     ],
     "prompt_number": 60
    },
    {
     "cell_type": "code",
     "collapsed": false,
     "input": [
      "%timeit cyfn(10000)"
     ],
     "language": "python",
     "metadata": {},
     "outputs": [
      {
       "output_type": "stream",
       "stream": "stdout",
       "text": [
        "10000 loops, best of 3: 61.9 \u00b5s per loop\n"
       ]
      }
     ],
     "prompt_number": 12
    },
    {
     "cell_type": "code",
     "collapsed": false,
     "input": [
      "pn = 0\n",
      "for i in range(2, 200, 2):\n",
      "    n = cyfn(i)\n",
      "    if n > 4:\n",
      "        print(\"{:>8}: {:>8} {:>8}\".format(i, n, i - pn))\n",
      "        pn = i"
     ],
     "language": "python",
     "metadata": {},
     "outputs": [
      {
       "output_type": "stream",
       "stream": "stdout",
       "text": [
        "      10:       12       10\n",
        "      20:       12       10\n",
        "      26:       12        6\n",
        "      30:       12        4\n",
        "      34:       12        4\n",
        "      40:       12        6\n",
        "      50:       20       10\n",
        "      52:       12        2\n",
        "      58:       12        6\n",
        "      60:       12        2\n",
        "      68:       12        8\n",
        "      70:       12        2\n",
        "      74:       12        4\n",
        "      78:       12        4\n",
        "      80:       12        2\n",
        "      82:       12        2\n",
        "      90:       12        8\n",
        "     100:       20       10\n",
        "     102:       12        2\n",
        "     104:       12        2\n",
        "     106:       12        2\n",
        "     110:       12        4\n",
        "     116:       12        6\n",
        "     120:       12        4\n",
        "     122:       12        2\n",
        "     130:       36        8\n",
        "     136:       12        6\n",
        "     140:       12        4\n",
        "     146:       12        6\n",
        "     148:       12        2\n",
        "     150:       20        2\n",
        "     156:       12        6\n",
        "     160:       12        4\n",
        "     164:       12        4\n",
        "     170:       36        6\n",
        "     174:       12        4\n",
        "     178:       12        4\n",
        "     180:       12        2\n",
        "     182:       12        2\n",
        "     190:       12        8\n",
        "     194:       12        4\n"
       ]
      }
     ],
     "prompt_number": 13
    },
    {
     "cell_type": "code",
     "collapsed": false,
     "input": [
      "pn = 0\n",
      "for i in range(2, 200, 2):\n",
      "    n = cyfn(i)\n",
      "    if n == 36:\n",
      "        print(\"{:>8}: {:>8} {:>8}\".format(i, n, i - pn))\n",
      "        for j in range(i, 2500, i):\n",
      "            print(\"    {:>11}: {:>11}\".format(j, cyfn(j)))\n",
      "        pn = i\n",
      "        "
     ],
     "language": "python",
     "metadata": {},
     "outputs": [
      {
       "output_type": "stream",
       "stream": "stdout",
       "text": [
        "     130:       36      130\n",
        "            130:          36\n",
        "            260:          36\n",
        "            390:          36\n",
        "            520:          36\n",
        "            650:          60\n",
        "            780:          36\n",
        "            910:          36\n",
        "           1040:          36\n",
        "           1170:          36\n",
        "           1300:          60\n",
        "           1430:          36\n",
        "           1560:          36\n",
        "           1690:          60\n",
        "           1820:          36\n",
        "           1950:          60\n",
        "           2080:          36\n",
        "           2210:         108\n",
        "           2340:          36\n",
        "           2470:          36\n",
        "     170:       36       40\n",
        "            170:          36\n",
        "            340:          36\n",
        "            510:          36\n",
        "            680:          36\n",
        "            850:          60\n",
        "           1020:          36\n",
        "           1190:          36\n",
        "           1360:          36\n",
        "           1530:          36\n",
        "           1700:          60\n",
        "           1870:          36\n",
        "           2040:          36\n",
        "           2210:         108\n",
        "           2380:          36\n"
       ]
      }
     ],
     "prompt_number": 14
    },
    {
     "cell_type": "code",
     "collapsed": false,
     "input": [
      "650 * 2210, cyfn(650 * 2210)"
     ],
     "language": "python",
     "metadata": {},
     "outputs": [
      {
       "metadata": {},
       "output_type": "pyout",
       "prompt_number": 15,
       "text": [
        "(1436500, 420)"
       ]
      }
     ],
     "prompt_number": 15
    },
    {
     "cell_type": "code",
     "collapsed": false,
     "input": [
      "1950 * 2210, cyfn(1950 * 2210)"
     ],
     "language": "python",
     "metadata": {},
     "outputs": [
      {
       "metadata": {},
       "output_type": "pyout",
       "prompt_number": 16,
       "text": [
        "(4309500, 420)"
       ]
      }
     ],
     "prompt_number": 16
    },
    {
     "cell_type": "code",
     "collapsed": false,
     "input": [
      "%%cython\n",
      "\n",
      "ctypedef unsigned long long ulong\n",
      "\n",
      "cdef ulong _gcd(ulong a, ulong b):\n",
      "    while b != 0:\n",
      "        a, b = b, a % b\n",
      "    return a\n",
      "\n",
      "def gcd(ulong a, ulong b):\n",
      "    return _gcd(a, b)\n",
      "\n",
      "def fn_points(ulong n):\n",
      "    if n % 2 != 0:\n",
      "        return 4\n",
      "    \n",
      "    cdef ulong rsq = n * n / 2\n",
      "    \n",
      "    cdef ulong m = n / 2\n",
      "    \n",
      "    cdef ulong x = 1\n",
      "    cdef ulong y = n\n",
      "    cdef ulong a, b, asq, bsq, asq_plus_bsq\n",
      "    \n",
      "    a = m - x\n",
      "    b = y - m\n",
      "    asq = a * a\n",
      "    bsq = b * b\n",
      "    while x <= m:\n",
      "        asq_plus_bsq = asq + bsq\n",
      "        if asq_plus_bsq > rsq:\n",
      "            x += 1\n",
      "            a = m - x\n",
      "            asq = a * a\n",
      "        elif asq_plus_bsq < rsq:\n",
      "            y += 1\n",
      "            b = y - m\n",
      "            bsq = b * b\n",
      "        else:\n",
      "            d = _gcd(a, b)\n",
      "            yield d, a / d, b / d\n",
      "            x += 1\n",
      "            y += 1\n",
      "            a = m - x\n",
      "            b = y - m\n",
      "            asq = a * a\n",
      "            bsq = b * b"
     ],
     "language": "python",
     "metadata": {},
     "outputs": [],
     "prompt_number": 62
    },
    {
     "cell_type": "code",
     "collapsed": false,
     "input": [
      "list(fn_points(10000))"
     ],
     "language": "python",
     "metadata": {},
     "outputs": [
      {
       "metadata": {},
       "output_type": "pyout",
       "prompt_number": 63,
       "text": [
        "[(200L, 17L, 31L), (40L, 73L, 161L), (8L, 191L, 863L), (1000L, 1L, 7L)]"
       ]
      }
     ],
     "prompt_number": 63
    },
    {
     "cell_type": "code",
     "collapsed": false,
     "input": [
      "for i in range(2, 1000, 2):\n",
      "    points = list(fn_points(i))\n",
      "    if not points:\n",
      "        continue\n",
      "    for d, a, b in points:\n",
      "        if d > 1:\n",
      "            continue\n",
      "        print(\"{:>8} {:>8} {:>8}\".format(i, a, b))"
     ],
     "language": "python",
     "metadata": {},
     "outputs": [
      {
       "output_type": "stream",
       "stream": "stdout",
       "text": [
        "      10        1        7\n",
        "      26        7       17\n",
        "      34        7       23\n",
        "      50       17       31\n",
        "      58        1       41\n",
        "      74       23       47\n",
        "      82       31       49\n",
        "     106       17       73\n",
        "     122       49       71\n",
        "     130       47       79\n",
        "     130       23       89\n",
        "     146        7      103\n",
        "     170       71       97\n",
        "     170       41      113\n",
        "     178       41      119\n",
        "     194        7      137\n",
        "     202       79      119\n",
        "     218       31      151\n",
        "     226       97      127\n",
        "     250       73      161\n",
        "     274       17      193\n",
        "     290      127      161\n",
        "     290      119      167\n",
        "     298       89      191\n",
        "     314       47      217\n",
        "     338        1      239\n",
        "     346      113      217\n",
        "     362      161      199\n",
        "     370      119      233\n",
        "     370       49      257\n",
        "     386       73      263\n",
        "     394      167      223\n",
        "     410      103      271\n",
        "     410       23      289\n",
        "     442      199      241\n",
        "     442       31      311\n",
        "     458      161      281\n",
        "     466      103      313\n",
        "     482       89      329\n",
        "     514      223      287\n",
        "     530      241      287\n",
        "     530      151      343\n",
        "     538      191      329\n",
        "     554      137      367\n",
        "     562       71      391\n",
        "     578       79      401\n",
        "     586      217      353\n",
        "     610      137      409\n",
        "     610       17      431\n",
        "     626      287      337\n",
        "     634      233      383\n",
        "     650      287      359\n",
        "     650       49      457\n",
        "     674      113      463\n",
        "     698      119      479\n",
        "     706       47      497\n",
        "     730      337      391\n",
        "     730      281      433\n",
        "     746       23      527\n",
        "     754      217      487\n",
        "     754      193      497\n",
        "     778      151      529\n",
        "     794       97      553\n",
        "     802      359      439\n",
        "     818      271      511\n",
        "     842      391      449\n",
        "     850      329      503\n",
        "     850        7      601\n",
        "     866      263      553\n",
        "     890      353      521\n",
        "     890      193      599\n",
        "     898       71      631\n",
        "     914      257      593\n",
        "     922      119      641\n",
        "     962      449      511\n",
        "     962       41      679\n",
        "     970      439      527\n",
        "     970      383      569\n",
        "     986      343      607\n",
        "     986      313      623\n"
       ]
      }
     ],
     "prompt_number": 64
    },
    {
     "cell_type": "code",
     "collapsed": false,
     "input": [
      "%%cython\n",
      "\n",
      "import bisect\n",
      "ctypedef unsigned long long ulong\n",
      "\n",
      "cdef list prime_sieve(ulong n):\n",
      "    cdef ulong i, isq\n",
      "    cdef list sieve = [True] * (n / 2)\n",
      "    for i in range(3, int(n ** 0.5) + 1, 2):\n",
      "        if sieve[i / 2]:\n",
      "            sieve[i * i / 2::i] = [False] * ((n - i * i - 1) / (2 * i) + 1)\n",
      "    return [2] + [2 * i + 1 for i in range(1, n / 2) if sieve[i]]\n",
      "\n",
      "\n",
      "def iter_base_n_vals(ulong limit):\n",
      "    cdef list primes = [1] + prime_sieve(limit)\n",
      "    cdef list squares = [i * i for i in range(limit * 2)]\n",
      "    cdef ulong a\n",
      "    cdef ulong b\n",
      "    cdef ulong rsq\n",
      "    cdef ulong nsq\n",
      "    cdef ulong n\n",
      "    \n",
      "    print(73 in primes)\n",
      "    print(161 in primes)\n",
      "    \n",
      "    for a in primes:\n",
      "        if a > limit:\n",
      "            break\n",
      "        n = 0\n",
      "        for b in primes:\n",
      "            # We don't need to consider a == b because the\n",
      "            # problem definition implies that it is on the circle.\n",
      "            if b <= a:\n",
      "                continue\n",
      "            if b > limit:\n",
      "                break\n",
      "            rsq = a * a + b * b\n",
      "            nsq = rsq * 2\n",
      "            n = bisect.bisect(squares, nsq, lo=n) - 1\n",
      "            if a == 7 and b == 73:\n",
      "                print(\"## {:>8} {:>8} {:>8}\".format(n, nsq, squares[n] != nsq))\n",
      "            if squares[n] != nsq:\n",
      "                continue\n",
      "                \n",
      "            # print(\"{:>8} {:>8} {:>8}\".format(n, a, b))\n",
      "            yield n, a, b"
     ],
     "language": "python",
     "metadata": {},
     "outputs": [],
     "prompt_number": 65
    },
    {
     "cell_type": "code",
     "collapsed": false,
     "input": [
      "from collections import Counter\n",
      "\n",
      "c = Counter()\n",
      "\n",
      "for n, a, b in iter_base_n_vals(10001):\n",
      "    for i in range(1, 10001):\n",
      "        if n * i == 10000:\n",
      "            print(a * i, b * i, a, b)\n",
      "        c[n * i] += 1\n",
      "\n",
      "print(c.get(10000, 0) * 8 + 4)\n",
      "\n",
      "#for n, count in c.most_common(20):\n",
      "#    print(\"{:>8} {:>8}\".format(n, count * 8 + 4))\n",
      "\n",
      "# 1000 7000\n",
      "# 3400 6200\n",
      "# 1528 6904\n",
      "# 2920 6440\n"
     ],
     "language": "python",
     "metadata": {},
     "outputs": [
      {
       "output_type": "stream",
       "stream": "stdout",
       "text": [
        "1000 7000 1 7\n",
        "##      103    10756        1"
       ]
      },
      {
       "output_type": "stream",
       "stream": "stdout",
       "text": [
        "\n",
        "3400"
       ]
      },
      {
       "output_type": "stream",
       "stream": "stdout",
       "text": [
        " 6200 17 31\n",
        "1528"
       ]
      },
      {
       "output_type": "stream",
       "stream": "stdout",
       "text": [
        " 6904 191 863\n",
        "28"
       ]
      },
      {
       "output_type": "stream",
       "stream": "stdout",
       "text": [
        "\n"
       ]
      }
     ],
     "prompt_number": 66
    },
    {
     "cell_type": "code",
     "collapsed": false,
     "input": [
      "(2920 / gcd(2920, 6440), 6440 / gcd(2920, 6440))"
     ],
     "language": "python",
     "metadata": {},
     "outputs": [
      {
       "metadata": {},
       "output_type": "pyout",
       "prompt_number": 50,
       "text": [
        "(73.0, 161.0)"
       ]
      }
     ],
     "prompt_number": 50
    },
    {
     "cell_type": "code",
     "collapsed": false,
     "input": [],
     "language": "python",
     "metadata": {},
     "outputs": []
    }
   ],
   "metadata": {}
  }
 ]
}